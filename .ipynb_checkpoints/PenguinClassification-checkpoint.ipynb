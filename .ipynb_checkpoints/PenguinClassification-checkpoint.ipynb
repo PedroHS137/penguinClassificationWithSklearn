{
 "cells": [
  {
   "cell_type": "code",
   "execution_count": 1,
   "id": "fbec1151",
   "metadata": {},
   "outputs": [],
   "source": [
    "## import libraries\n",
    "import pandas as pd\n",
    "import matplotlib.pyplot as plt\n",
    "from sklearn.model_selection import train_test_split\n",
    "from sklearn.neural_network import MLPClassifier\n"
   ]
  },
  {
   "cell_type": "code",
   "execution_count": 9,
   "id": "a9f992a7",
   "metadata": {},
   "outputs": [
    {
     "name": "stdout",
     "output_type": "stream",
     "text": [
      "(344, 17)\n"
     ]
    }
   ],
   "source": [
    "## get data using pandas\n",
    "\n",
    "# Adelie penguin data \n",
    "adelie = \"https://portal.edirepository.org/nis/dataviewer?packageid=knb-lter-pal.219.3&entityid=002f3893385f710df69eeebe893144ff\"\n",
    "\n",
    "# Gentoo penguin data \n",
    "gentoo = \"https://portal.edirepository.org/nis/dataviewer?packageid=knb-lter-pal.220.3&entityid=e03b43c924f226486f2f0ab6709d2381\"\n",
    "\n",
    "# Chinstrap penguin data \n",
    "chinstrap = \"https://portal.edirepository.org/nis/dataviewer?packageid=knb-lter-pal.221.2&entityid=fe853aa8f7a59aa84cdd3197619ef462\"\n",
    "\n",
    "# use pandas to get dataset using the provided URL\n",
    "adelieCsv = pd.read_csv(adelie)\n",
    "gentooCsv = pd.read_csv(gentoo)\n",
    "chinstrapCsv = pd.read_csv(chinstrap)\n",
    "\n",
    "# merge the 3 datasets in one using the concatenate pandas function\n",
    "frames = [adelieCsv, gentooCsv, chinstrapCsv]\n",
    "data = pd.concat(frames)\n",
    "shape = data.shape\n",
    "print(shape)\n"
   ]
  },
  {
   "cell_type": "code",
   "execution_count": null,
   "id": "bf071980",
   "metadata": {},
   "outputs": [],
   "source": []
  },
  {
   "cell_type": "code",
   "execution_count": null,
   "id": "117eb814",
   "metadata": {},
   "outputs": [],
   "source": []
  }
 ],
 "metadata": {
  "kernelspec": {
   "display_name": "Python 3",
   "language": "python",
   "name": "python3"
  },
  "language_info": {
   "codemirror_mode": {
    "name": "ipython",
    "version": 3
   },
   "file_extension": ".py",
   "mimetype": "text/x-python",
   "name": "python",
   "nbconvert_exporter": "python",
   "pygments_lexer": "ipython3",
   "version": "3.8.8"
  }
 },
 "nbformat": 4,
 "nbformat_minor": 5
}
